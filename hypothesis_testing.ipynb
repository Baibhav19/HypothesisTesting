{
 "cells": [
  {
   "cell_type": "markdown",
   "metadata": {
    "colab_type": "text",
    "id": "IvhVe9NIboEC"
   },
   "source": [
    "# Data"
   ]
  },
  {
   "cell_type": "code",
   "execution_count": 1,
   "metadata": {
    "colab": {},
    "colab_type": "code",
    "executionInfo": {
     "elapsed": 3563,
     "status": "ok",
     "timestamp": 1600263230857,
     "user": {
      "displayName": "Ishvinder Sethi",
      "photoUrl": "https://lh3.googleusercontent.com/a-/AOh14GgU_b8Lm0FcGGWs4DPf8uvPEuAObFHoUwCoI77U=s64",
      "userId": "16311832821094149789"
     },
     "user_tz": -330
    },
    "id": "18pH7JTwbkoL"
   },
   "outputs": [],
   "source": [
    "chip_weights = [193, 212, 174, 200, 195, 195, 194, 198, 181, 203]\n",
    "ball_bearing_radius = [2.99, 2.99, 2.70, 2.92, 2.88, 2.92, 2.82, 2.83, 3.06, 2.85]\n",
    "user_ratings = [4, 3, 5, 4, 5, 3, 5, 5, 4, 2, 4, 5, 5, 4, 4, 5, 4, 5, 4, 5]\n",
    "mileage = [14.08, 14.13, 15.65, 13.78, 16.26, 14.97, 15.36, 15.81, 14.53, 16.79, 15.78, 16.98, 13.23, 15.43, 15.46, 13.88, 14.31, 14.41, 15.76, 15.38]\n"
   ]
  },
  {
   "cell_type": "markdown",
   "metadata": {
    "colab_type": "text",
    "id": "UwTNbu77ceIH"
   },
   "source": [
    "# Hypothesis Test for mean"
   ]
  },
  {
   "cell_type": "markdown",
   "metadata": {
    "colab_type": "text",
    "id": "Irlxa789chf9"
   },
   "source": [
    "## Known Variance (z-test)"
   ]
  },
  {
   "cell_type": "markdown",
   "metadata": {
    "colab_type": "text",
    "id": "ryiR-mfdgcgB"
   },
   "source": [
    "### Two-tailed z-test\n"
   ]
  },
  {
   "cell_type": "code",
   "execution_count": 2,
   "metadata": {
    "colab": {
     "base_uri": "https://localhost:8080/",
     "height": 52
    },
    "colab_type": "code",
    "executionInfo": {
     "elapsed": 3514,
     "status": "ok",
     "timestamp": 1600263230859,
     "user": {
      "displayName": "Ishvinder Sethi",
      "photoUrl": "https://lh3.googleusercontent.com/a-/AOh14GgU_b8Lm0FcGGWs4DPf8uvPEuAObFHoUwCoI77U=s64",
      "userId": "16311832821094149789"
     },
     "user_tz": -330
    },
    "id": "soxLeGP6cpHa",
    "outputId": "ae1029a1-1e0d-4c3e-cdc7-95018af8bca8"
   },
   "outputs": [
    {
     "name": "stdout",
     "output_type": "stream",
     "text": [
      "-1.7392527130926088 1.959963984540054\n",
      "Not enough evidence to reject Null Hypothesis: p_value =  0.082  alpha =  0.05\n"
     ]
    }
   ],
   "source": [
    "from math import sqrt\n",
    "import numpy as np\n",
    "from scipy.stats import norm\n",
    "\n",
    "#Given\n",
    "mu_0 = 200\n",
    "sigma = 10\n",
    "\n",
    "#Collect Sample\n",
    "sample = chip_weights\n",
    "#sample = ball_bearing_radius\n",
    "\n",
    "n = len(sample)\n",
    "#Compute mean\n",
    "mean = np.mean(sample)\n",
    "#Compute test statistic\n",
    "z = (mean - mu_0)/(sigma/sqrt(n))\n",
    "#Set alpha\n",
    "alpha = 0.05\n",
    "\n",
    "z_critical = norm.ppf(1 - alpha/2)\n",
    "p_value = 2 * (1.0 - norm.cdf(np.abs(z)))\n",
    "\n",
    "print(z, z_critical)\n",
    "\n",
    "p_value = float(\"{:.4f}\".format(p_value))\n",
    "\n",
    "if (np.abs(z) >  norm.ppf(1 - alpha/2)) :\n",
    "  print ('Reject Null Hypothesis: p-value = ', p_value, ' alpha = ', alpha)\n",
    "else :\n",
    "  print ('Not enough evidence to reject Null Hypothesis: p_value = ', p_value, ' alpha = ', alpha)\n",
    "\n",
    "\n"
   ]
  },
  {
   "cell_type": "markdown",
   "metadata": {
    "colab_type": "text",
    "id": "MkenwxVLlxym"
   },
   "source": [
    "### One-tailed z-test"
   ]
  },
  {
   "cell_type": "code",
   "execution_count": 3,
   "metadata": {
    "colab": {
     "base_uri": "https://localhost:8080/",
     "height": 52
    },
    "colab_type": "code",
    "executionInfo": {
     "elapsed": 1808,
     "status": "ok",
     "timestamp": 1600263234535,
     "user": {
      "displayName": "Ishvinder Sethi",
      "photoUrl": "https://lh3.googleusercontent.com/a-/AOh14GgU_b8Lm0FcGGWs4DPf8uvPEuAObFHoUwCoI77U=s64",
      "userId": "16311832821094149789"
     },
     "user_tz": -330
    },
    "id": "MnhTYZjpl9Gj",
    "outputId": "3b1d64aa-6b19-443e-9998-e5a79d354c36"
   },
   "outputs": [
    {
     "name": "stdout",
     "output_type": "stream",
     "text": [
      "4.25 2.23606797749979 1.6448536269514722\n",
      "Reject Null Hypothesis: p-value =  0.0127  alpha =  0.05\n"
     ]
    }
   ],
   "source": [
    "from math import sqrt\n",
    "import numpy as np\n",
    "from scipy.stats import norm\n",
    "\n",
    "#Given\n",
    "mu_0 = 4\n",
    "sigma = 0.5\n",
    "\n",
    "#Collect Sample\n",
    "#sample = chip_weights\n",
    "sample = user_ratings\n",
    "\n",
    "n = len(sample)\n",
    "#Compute mean\n",
    "mean = np.mean(sample)\n",
    "#Compute test statistic\n",
    "z = (mean - mu_0)/(sigma/sqrt(n))\n",
    "#Set alpha\n",
    "alpha = 0.05\n",
    "\n",
    "z_critical = norm.ppf(1 - alpha)\n",
    "p_value = (1.0 - norm.cdf(np.abs(z)))\n",
    "\n",
    "print(mean, z, z_critical)\n",
    "\n",
    "p_value = float(\"{:.4f}\".format(p_value))\n",
    "\n",
    "if (np.abs(z) >  norm.ppf(1 - alpha)) :\n",
    "  print ('Reject Null Hypothesis: p-value = ', p_value, ' alpha = ', alpha)\n",
    "else :\n",
    "  print ('Not enough evidence to reject Null Hypothesis: p_value = ', p_value, ' alpha = ', alpha)\n",
    "\n"
   ]
  },
  {
   "cell_type": "markdown",
   "metadata": {
    "colab_type": "text",
    "id": "K3RZtdc5mmio"
   },
   "source": [
    "## Unknown variance (t-test)"
   ]
  },
  {
   "cell_type": "markdown",
   "metadata": {
    "colab_type": "text",
    "id": "3l_7YQF6ojUL"
   },
   "source": [
    "### Two-tailed t-test"
   ]
  },
  {
   "cell_type": "code",
   "execution_count": 4,
   "metadata": {
    "colab": {
     "base_uri": "https://localhost:8080/",
     "height": 52
    },
    "colab_type": "code",
    "executionInfo": {
     "elapsed": 790,
     "status": "ok",
     "timestamp": 1600263237057,
     "user": {
      "displayName": "Ishvinder Sethi",
      "photoUrl": "https://lh3.googleusercontent.com/a-/AOh14GgU_b8Lm0FcGGWs4DPf8uvPEuAObFHoUwCoI77U=s64",
      "userId": "16311832821094149789"
     },
     "user_tz": -330
    },
    "id": "aG8YDhVUmtw0",
    "outputId": "d7271af5-ee26-4e0c-e1f4-d26d47b38848"
   },
   "outputs": [
    {
     "name": "stdout",
     "output_type": "stream",
     "text": [
      "194.5 10.67967956240053 -1.628562638916544 2.2621571627409915\n",
      "Not enough evidence to reject Null Hypothesis: p_value =  0.1378  alpha =  0.05\n"
     ]
    }
   ],
   "source": [
    "from math import sqrt\n",
    "import numpy as np\n",
    "from scipy.stats import t\n",
    "\n",
    "#Given\n",
    "mu_0 = 200\n",
    "\n",
    "#Collect Sample\n",
    "sample = chip_weights\n",
    "\n",
    "n = len(sample)\n",
    "#Compute mean\n",
    "mean = np.mean(sample)\n",
    "stddev = np.std(sample, ddof=1)\n",
    "#Compute test statistic\n",
    "t_statistic = (mean - mu_0)/(stddev/sqrt(n))\n",
    "\n",
    "#Set alpha\n",
    "alpha = 0.05\n",
    "t_critical = t.ppf(1 - alpha/2, n-1)\n",
    "p_value = 2 * (1.0 - t.cdf(np.abs(t_statistic), n-1))\n",
    "\n",
    "print(mean, stddev, t_statistic, t_critical)\n",
    "\n",
    "\n",
    "p_value = float(\"{:.4f}\".format(p_value))\n",
    "\n",
    "if (np.abs(t_statistic) >  t_critical) :\n",
    "  print ('Reject Null Hypothesis: p-value = ', p_value, ' alpha = ', alpha)\n",
    "else :\n",
    "  print ('Not enough evidence to reject Null Hypothesis: p_value = ', p_value, ' alpha = ', alpha)\n",
    "\n",
    "\n"
   ]
  },
  {
   "cell_type": "markdown",
   "metadata": {
    "colab_type": "text",
    "id": "LPvthXaFovz9"
   },
   "source": [
    "### One-tailed t-test"
   ]
  },
  {
   "cell_type": "code",
   "execution_count": 5,
   "metadata": {
    "colab": {
     "base_uri": "https://localhost:8080/",
     "height": 52
    },
    "colab_type": "code",
    "executionInfo": {
     "elapsed": 840,
     "status": "ok",
     "timestamp": 1600263239014,
     "user": {
      "displayName": "Ishvinder Sethi",
      "photoUrl": "https://lh3.googleusercontent.com/a-/AOh14GgU_b8Lm0FcGGWs4DPf8uvPEuAObFHoUwCoI77U=s64",
      "userId": "16311832821094149789"
     },
     "user_tz": -330
    },
    "id": "uMA2dNVho5--",
    "outputId": "5c8eddac-aaef-4f8f-a19f-4fbab42ab9e2"
   },
   "outputs": [
    {
     "name": "stdout",
     "output_type": "stream",
     "text": [
      "20 1.3142574813455419 1.729132811521367 0.8506963092234007\n",
      "Not enough evidence to reject Null Hypothesis: p_value =  0.1022  alpha =  0.05\n"
     ]
    }
   ],
   "source": [
    "from math import sqrt\n",
    "import numpy as np\n",
    "from scipy.stats import t\n",
    "\n",
    "#Given\n",
    "mu_0 = 4\n",
    "\n",
    "#Collect Sample\n",
    "sample = user_ratings\n",
    "\n",
    "n = len(sample)\n",
    "#Compute mean\n",
    "mean = np.mean(sample)\n",
    "stddev = np.std(sample, ddof=1)\n",
    "#Compute test statistic\n",
    "t_statistic = (mean - mu_0)/(stddev/sqrt(n))\n",
    "\n",
    "#Set alpha\n",
    "alpha = 0.05\n",
    "t_critical = t.ppf(1 - alpha, n-1)\n",
    "p_value = (1.0 - t.cdf(np.abs(t_statistic), n-1))\n",
    "\n",
    "print(n, t_statistic, t_critical, stddev)\n",
    "p_value = float(\"{:.4f}\".format(p_value))\n",
    "\n",
    "if (np.abs(t_statistic) >  t_critical) :\n",
    "  print ('Reject Null Hypothesis: p-value = ', p_value, ' alpha = ', alpha)\n",
    "else :\n",
    "  print ('Not enough evidence to reject Null Hypothesis: p_value = ', p_value, ' alpha = ', alpha)\n"
   ]
  },
  {
   "cell_type": "markdown",
   "metadata": {
    "colab_type": "text",
    "id": "_U-Y3eH1r7Va"
   },
   "source": [
    "# Plotting distributions"
   ]
  },
  {
   "cell_type": "code",
   "execution_count": 6,
   "metadata": {
    "colab": {
     "base_uri": "https://localhost:8080/",
     "height": 269
    },
    "colab_type": "code",
    "executionInfo": {
     "elapsed": 2135,
     "status": "ok",
     "timestamp": 1600263242713,
     "user": {
      "displayName": "Ishvinder Sethi",
      "photoUrl": "https://lh3.googleusercontent.com/a-/AOh14GgU_b8Lm0FcGGWs4DPf8uvPEuAObFHoUwCoI77U=s64",
      "userId": "16311832821094149789"
     },
     "user_tz": -330
    },
    "id": "0oEjDLrbr-mL",
    "outputId": "ebea56b6-80cb-44e8-97b2-a28c2eb56b91"
   },
   "outputs": [
    {
     "data": {
      "image/png": "[encoded data removed]",
      "text/plain": [
       "<Figure size 432x288 with 1 Axes>"
      ]
     },
     "metadata": {
      "needs_background": "light"
     },
     "output_type": "display_data"
    }
   ],
   "source": [
    "import matplotlib.pyplot as plt\n",
    "import numpy as np\n",
    "from scipy.stats import norm\n",
    "from scipy.stats import t\n",
    "from scipy.stats import chi2\n",
    "\n",
    "x_min =  -4 \n",
    "x_max = 10\n",
    "\n",
    "mean = 0 \n",
    "std = 1\n",
    "\n",
    "x = np.linspace(x_min, x_max, 100)\n",
    "\n",
    "#y = norm.pdf(x, mean, std)\n",
    "y = t.pdf(x, 2)\n",
    "#y3 = chi2.pdf(x, 4)\n",
    "\n",
    "ax = plt.gca()\n",
    "\n",
    "plt.xlim(x_min,x_max)\n",
    "plt.ylim(0,0.7)\n",
    "\n",
    "plt.plot(x,y)\n",
    "\n",
    "x1 = np.linspace(-4, -1.96, 100)\n",
    "y1 = t.pdf(x1, 2)\n",
    "plt.fill_between(x1, y1, color='orange', alpha=0.5)\n",
    "\n",
    "x2 = np.linspace(1.96, 10, 100)\n",
    "y2 = t.pdf(x2, 2)\n",
    "plt.fill_between(x2, y2, color='orange', alpha=0.5)\n",
    "\n",
    "#plt.plot(x,y2)\n",
    "#plt.plot(x,y3)\n",
    "\n",
    "plt.savefig(\"normal_dist.png\", dpi=400, transparent=True)\n",
    "plt.show()\n"
   ]
  },
  {
   "cell_type": "code",
   "execution_count": null,
   "metadata": {
    "colab": {},
    "colab_type": "code",
    "id": "OGx81PtMHzsF"
   },
   "outputs": [],
   "source": []
  }
 ],
 "metadata": {
  "colab": {
   "collapsed_sections": [],
   "name": "hypothesis_testing.ipynb",
   "provenance": [],
   "toc_visible": true
  },
  "kernelspec": {
   "display_name": "Python 3",
   "language": "python",
   "name": "python3"
  },
  "language_info": {
   "codemirror_mode": {
    "name": "ipython",
    "version": 3
   },
   "file_extension": ".py",
   "mimetype": "text/x-python",
   "name": "python",
   "nbconvert_exporter": "python",
   "pygments_lexer": "ipython3",
   "version": "3.8.3"
  }
 },
 "nbformat": 4,
 "nbformat_minor": 1
}
